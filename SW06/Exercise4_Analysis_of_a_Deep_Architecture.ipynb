{
 "cells": [
  {
   "attachments": {},
   "cell_type": "markdown",
   "metadata": {},
   "source": [
    "# Analysis of a Deep Architecture"
   ]
  },
  {
   "attachments": {},
   "cell_type": "markdown",
   "metadata": {},
   "source": [
    "@article{yolov3,\n",
    "  title={YOLOv3: An Incremental Improvement},\n",
    "  author={Redmon, Joseph and Farhadi, Ali},\n",
    "  journal = {arXiv},\n",
    "  year={2018}\n",
    "}"
   ]
  },
  {
   "attachments": {},
   "cell_type": "markdown",
   "metadata": {},
   "source": [
    "YOLOv3 is an update to the YOLO presented in the paper \"You Only Look Once: Unified, Real-Time Object Detection\" in 2016 and \"YOLO9000: Better, Faster, Stronger\" in 2017. On the contrary to the earlier versions of YOLO, YOLOv3 applies residual layers and, with 53 convolitional layers, is significantly larger than the others.\n",
    "The YOLOv3 algorithm uses the Darknet-53 backbone. Darknet-53 achieves Top-1 accuracy of 77.2% and Top-5 accuracy of 93.8% at 78fps on ImageNet. The accuracy is similar to those of ResNet-101 and ResNet-152, but with much more fps. This property makes YOLOv3 one of the best real-time object detection networks."
   ]
  }
 ],
 "metadata": {
  "language_info": {
   "name": "python"
  },
  "orig_nbformat": 4
 },
 "nbformat": 4,
 "nbformat_minor": 2
}
