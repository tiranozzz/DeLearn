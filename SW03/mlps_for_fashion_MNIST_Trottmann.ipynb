{
 "cells": [
  {
   "cell_type": "code",
   "execution_count": 1,
   "id": "07ec37d7-f7cb-4646-a2dd-9dab66239a30",
   "metadata": {
    "tags": []
   },
   "outputs": [],
   "source": [
    "import torch\n",
    "from torch.utils.data import DataLoader\n",
    "from torchvision import datasets\n",
    "from torchvision.transforms import ToTensor\n",
    "from torchsummary import summary\n",
    "import numpy as np\n",
    "import matplotlib.pyplot as plt"
   ]
  },
  {
   "cell_type": "code",
   "execution_count": 2,
   "id": "d940c509",
   "metadata": {},
   "outputs": [
    {
     "data": {
      "image/png": "[encoded data removed]",
      "text/plain": [
       "<Figure size 640x480 with 1 Axes>"
      ]
     },
     "metadata": {},
     "output_type": "display_data"
    }
   ],
   "source": [
    "import numpy as np\n",
    "import matplotlib.pyplot as plt\n",
    "\n",
    "t = np.arange(10)\n",
    "y = 3*t + 1\n",
    "\n",
    "plt.figure(9)\n",
    "plt.plot(t, y)\n",
    "plt.show()"
   ]
  },
  {
   "cell_type": "markdown",
   "id": "e2d8a986-1cb2-483b-9bd8-0f71d69fa9e8",
   "metadata": {
    "tags": []
   },
   "source": [
    "### Loading Data"
   ]
  },
  {
   "cell_type": "code",
   "execution_count": 3,
   "id": "4ba6b0c6-3f55-40dd-ba32-6f6aad8f1437",
   "metadata": {},
   "outputs": [
    {
     "name": "stdout",
     "output_type": "stream",
     "text": [
      "Downloading http://fashion-mnist.s3-website.eu-central-1.amazonaws.com/train-images-idx3-ubyte.gz\n",
      "Downloading http://fashion-mnist.s3-website.eu-central-1.amazonaws.com/train-images-idx3-ubyte.gz to data\\FashionMNIST\\raw\\train-images-idx3-ubyte.gz\n"
     ]
    },
    {
     "name": "stderr",
     "output_type": "stream",
     "text": [
      "100%|██████████| 26421880/26421880 [00:02<00:00, 10938268.65it/s]\n"
     ]
    },
    {
     "name": "stdout",
     "output_type": "stream",
     "text": [
      "Extracting data\\FashionMNIST\\raw\\train-images-idx3-ubyte.gz to data\\FashionMNIST\\raw\n",
      "\n",
      "Downloading http://fashion-mnist.s3-website.eu-central-1.amazonaws.com/train-labels-idx1-ubyte.gz\n",
      "Downloading http://fashion-mnist.s3-website.eu-central-1.amazonaws.com/train-labels-idx1-ubyte.gz to data\\FashionMNIST\\raw\\train-labels-idx1-ubyte.gz\n"
     ]
    },
    {
     "name": "stderr",
     "output_type": "stream",
     "text": [
      "100%|██████████| 29515/29515 [00:00<00:00, 3684810.17it/s]\n"
     ]
    },
    {
     "name": "stdout",
     "output_type": "stream",
     "text": [
      "Extracting data\\FashionMNIST\\raw\\train-labels-idx1-ubyte.gz to data\\FashionMNIST\\raw\n",
      "\n",
      "Downloading http://fashion-mnist.s3-website.eu-central-1.amazonaws.com/t10k-images-idx3-ubyte.gz\n",
      "Downloading http://fashion-mnist.s3-website.eu-central-1.amazonaws.com/t10k-images-idx3-ubyte.gz to data\\FashionMNIST\\raw\\t10k-images-idx3-ubyte.gz\n"
     ]
    },
    {
     "name": "stderr",
     "output_type": "stream",
     "text": [
      "100%|██████████| 4422102/4422102 [00:00<00:00, 10046697.42it/s]\n"
     ]
    },
    {
     "name": "stdout",
     "output_type": "stream",
     "text": [
      "Extracting data\\FashionMNIST\\raw\\t10k-images-idx3-ubyte.gz to data\\FashionMNIST\\raw\n",
      "\n",
      "Downloading http://fashion-mnist.s3-website.eu-central-1.amazonaws.com/t10k-labels-idx1-ubyte.gz\n",
      "Downloading http://fashion-mnist.s3-website.eu-central-1.amazonaws.com/t10k-labels-idx1-ubyte.gz to data\\FashionMNIST\\raw\\t10k-labels-idx1-ubyte.gz\n"
     ]
    },
    {
     "name": "stderr",
     "output_type": "stream",
     "text": [
      "100%|██████████| 5148/5148 [00:00<?, ?it/s]\n"
     ]
    },
    {
     "name": "stdout",
     "output_type": "stream",
     "text": [
      "Extracting data\\FashionMNIST\\raw\\t10k-labels-idx1-ubyte.gz to data\\FashionMNIST\\raw\n",
      "\n"
     ]
    }
   ],
   "source": [
    "training_data = datasets.mnist.FashionMNIST(root=\"data\", train=True, download=True, transform=ToTensor())\n",
    "test_data = datasets.mnist.FashionMNIST(root=\"data\", train=False, download=True, transform=ToTensor())"
   ]
  },
  {
   "cell_type": "code",
   "execution_count": 4,
   "id": "5c2da4ed-af9a-4fc7-b59f-135b51241d2f",
   "metadata": {
    "tags": []
   },
   "outputs": [],
   "source": [
    "training_data, validation_data = torch.utils.data.random_split(training_data, [50000, 10000])"
   ]
  },
  {
   "cell_type": "code",
   "execution_count": 5,
   "id": "22b30c81-d89f-4947-aa09-ab8c70dd262c",
   "metadata": {},
   "outputs": [
    {
     "name": "stdout",
     "output_type": "stream",
     "text": [
      "50000 10000 10000\n"
     ]
    }
   ],
   "source": [
    "print(len(training_data),len(validation_data),len(test_data))"
   ]
  },
  {
   "cell_type": "markdown",
   "id": "6832efcb-c191-42f2-93f5-60ff2e99e934",
   "metadata": {
    "tags": []
   },
   "source": [
    "### Exercise 2: Fixed MLP with Increasing Training Dataset\n",
    "\n",
    "Create a MLP with one hidden layer with 200 units for Fashion MNIST classification. Use ReLU activation.\n",
    "\n",
    "Use a random fraction of the training set (split above) to perform the training. Always use the same validation set.\n",
    "\n",
    "Use SGD and cross-entropy loss and suitable learning rate.\n",
    "\n",
    "Start with a single small batch for training (batch size 8) and make sure that you can overfit, i.e. bring the training accuracy to 100%.\n",
    "\n",
    "Then, gradually increase the training set. Let it grow until you obtain values for the training and the validation loss which no longer indicate overfitting. Use a fixed batch size (batchsize 64)."
   ]
  },
  {
   "cell_type": "markdown",
   "id": "7a65fabc-6c12-4e88-8a47-0f5ce337103d",
   "metadata": {},
   "source": [
    "#### MLP Class"
   ]
  },
  {
   "cell_type": "code",
   "execution_count": 11,
   "id": "b02cf040-3853-4e48-afa7-4666f8c46d75",
   "metadata": {},
   "outputs": [],
   "source": [
    "# define a method that provides an instance of an MLP which uses as a list of units per layer as input\n",
    "\n",
    "#device = \"cpu\"\n",
    "#device = \"cuda\"\n",
    "\n",
    "if torch.cuda.is_available():\n",
    "    device = \"cuda\"\n",
    "else:\n",
    "    device = \"cpu\"\n",
    "\n",
    "def mlp(units = [28*28, 200, 10]):\n",
    "    \"\"\"\n",
    "    Creates an instance of an MLP with layers as specified in the 'units'-list (list of integers).\n",
    "    \"\"\"\n",
    "\n",
    "    seq = [torch.nn.Flatten()]\n",
    "\n",
    "    for i in range(len(units)-2):\n",
    "        seq.append(torch.nn.Linear(units[i], units[i+1], device=device))\n",
    "        seq.append(torch.nn.ReLU())\n",
    "    seq.append(torch.nn.Linear(units[-2], units[-1], device=device))\n",
    "    seq.append(torch.nn.Softmax(dim=1))\n",
    "\n",
    "    #torch.nn.Sequential(\n",
    "    #    torch.nn.Flatten(),\n",
    "    #    torch.nn.Linear(units[0], units[1]),\n",
    "    #    torch.nn.ReLU(),\n",
    "    #    torch.nn.Linear(units[1], units[2])\n",
    "    #)\n",
    "\n",
    "    return torch.nn.Sequential(*seq)"
   ]
  },
  {
   "cell_type": "code",
   "execution_count": 12,
   "id": "5c108c38-1e25-4353-b95a-1ecb00c43fb1",
   "metadata": {},
   "outputs": [
    {
     "name": "stdout",
     "output_type": "stream",
     "text": [
      "----------------------------------------------------------------\n",
      "        Layer (type)               Output Shape         Param #\n",
      "================================================================\n",
      "           Flatten-1                  [-1, 784]               0\n",
      "            Linear-2                  [-1, 200]         157,000\n",
      "              ReLU-3                  [-1, 200]               0\n",
      "            Linear-4                   [-1, 10]           2,010\n",
      "           Softmax-5                   [-1, 10]               0\n",
      "================================================================\n",
      "Total params: 159,010\n",
      "Trainable params: 159,010\n",
      "Non-trainable params: 0\n",
      "----------------------------------------------------------------\n",
      "Input size (MB): 0.00\n",
      "Forward/backward pass size (MB): 0.01\n",
      "Params size (MB): 0.61\n",
      "Estimated Total Size (MB): 0.62\n",
      "----------------------------------------------------------------\n",
      "CUDA available: True\n"
     ]
    }
   ],
   "source": [
    "# create an instance and its summary\n",
    "\n",
    "model = mlp().to(device)\n",
    "from torchsummary import summary\n",
    "summary(model, (1,28,28))\n",
    "print(f\"CUDA available: {torch.cuda.is_available()}\")"
   ]
  },
  {
   "cell_type": "markdown",
   "id": "29bfd65c-d84d-401e-a209-8d4de656fee3",
   "metadata": {},
   "source": [
    "#### Training Loop "
   ]
  },
  {
   "cell_type": "code",
   "execution_count": 13,
   "id": "c6979eb0-1b61-44df-8f83-3ad42bc6e226",
   "metadata": {},
   "outputs": [],
   "source": [
    "def train_eval(model, lr, nepochs, nbatch, training_data, validation_data, doPrint=True):\n",
    "    \"\"\"\n",
    "    Performs the training of a model with given learning rate (lr), \n",
    "    number of epochs (nepochs), batchsize (nbatch) and training and validation data.\n",
    "    Suitable data loaders are instantiated for the training and validation datasets.\n",
    "    Keep book about cost and accuracy (per epoch) for both training and validation set.\n",
    "    \"\"\"\n",
    "    cost_hist = []\n",
    "    cost_hist_test = []\n",
    "    acc_hist = []\n",
    "    acc_hist_test = []\n",
    "\n",
    "    \n",
    "    if torch.cuda.is_available():\n",
    "        device = \"cuda\"\n",
    "    else:\n",
    "        device = \"cpu\"\n",
    "    \n",
    "    cost_ce = torch.nn.CrossEntropyLoss()\n",
    "    optimizer = torch.optim.SGD(model.parameters(), lr=lr)\n",
    "    \n",
    "    training_loader = DataLoader(dataset=training_data, batch_size=nbatch, shuffle=True)\n",
    "    validation_loader = DataLoader(dataset=validation_data, batch_size=nbatch, shuffle=True)\n",
    "\n",
    "    size = len(training_loader.dataset)\n",
    "    nbatches = len(training_loader)\n",
    "    size_val = len(validation_loader.dataset)\n",
    "    nbatches_val = len(validation_loader)\n",
    "    \n",
    "    for epoch in range(nepochs):\n",
    "        cost, acc = 0.0, 0.0\n",
    "        for batch, (X, Y) in enumerate(training_loader):\n",
    "            X = X.to(device)\n",
    "            Y = Y.to(device)\n",
    "            pred = model(X)\n",
    "            loss = cost_ce(pred, Y)\n",
    "            \n",
    "            cost += loss.item()\n",
    "            acc += (pred.argmax(dim=1) == Y).type(torch.float).sum().item()\n",
    "            \n",
    "            #gradient, parameter update\n",
    "            optimizer.zero_grad()\n",
    "            loss.backward()\n",
    "            optimizer.step()\n",
    "        \n",
    "        # Adjust cost and accuracy with batch size\n",
    "        cost /= nbatches\n",
    "        acc /= size\n",
    "        \n",
    "        acc_val = 0.0\n",
    "        cost_val = 0.0\n",
    "        with torch.no_grad(): #no gradients for validation\n",
    "            for (X, Y) in validation_loader:\n",
    "                X = X.to(device)\n",
    "                Y = Y.to(device)\n",
    "                pred = model(X)\n",
    "                acc_val += (pred.argmax(dim=1) == Y).type(torch.float).sum().item()\n",
    "                loss_val = cost_ce(pred, Y)\n",
    "                cost_val += loss_val.item()\n",
    "\n",
    "            cost_val /= nbatches_val\n",
    "            acc_val /= size_val\n",
    "    \n",
    "        cost_hist.append(cost)\n",
    "        cost_hist_test.append(cost_val)\n",
    "        acc_hist.append(acc)\n",
    "        acc_hist_test.append(acc_val)\n",
    "        \n",
    "        if doPrint:\n",
    "            print(f\"Epoch {epoch+1}:, {cost}, {acc}, {cost_val}, {acc_val}\")\n",
    "\n",
    "    return cost_hist, cost_hist_test, acc_hist, acc_hist_test"
   ]
  },
  {
   "cell_type": "markdown",
   "id": "c3f7a9da-8c34-42c4-8907-3cc7990227e4",
   "metadata": {},
   "source": [
    "#### First Training\n",
    "\n",
    "Run a first training with only one small training batch (e.g. with a single batch of 64 samples). \n",
    "The small training set can be created by using the functionality `torch.utils.data.random_split` already used above. As validation set use the `validation_data` created above.  \n",
    "\n",
    "This training run can be used to test whether the model and training loop are properly implemented. Explain why and in what sense it can be used as test.\n",
    "\n",
    "This is something you can always do when training a model."
   ]
  },
  {
   "cell_type": "code",
   "execution_count": 14,
   "id": "37778e0b-7f07-4af8-8f9e-45e6ba864248",
   "metadata": {},
   "outputs": [
    {
     "name": "stdout",
     "output_type": "stream",
     "text": [
      "512 49488\n",
      "         cost,  accuracy,  cost_val,  accuracy_val\n",
      "Epoch 1:, 2.302178233861923, 0.0859375, 2.2990877901672557, 0.1404\n",
      "Epoch 2:, 2.2966520190238953, 0.158203125, 2.294030307964155, 0.1385\n",
      "Epoch 3:, 2.2906197607517242, 0.150390625, 2.2885336511454004, 0.1415\n",
      "Epoch 4:, 2.283977657556534, 0.18359375, 2.2823426116044354, 0.1773\n",
      "Epoch 5:, 2.275810092687607, 0.25, 2.275081080236253, 0.2194\n",
      "Epoch 6:, 2.2658363580703735, 0.296875, 2.265655508466587, 0.2403\n",
      "Epoch 7:, 2.252090811729431, 0.298828125, 2.2531566255411524, 0.2489\n",
      "Epoch 8:, 2.233618348836899, 0.28515625, 2.236207327265648, 0.2316\n",
      "Epoch 9:, 2.2091909646987915, 0.263671875, 2.2167623544194894, 0.2169\n",
      "Epoch 10:, 2.1857455372810364, 0.267578125, 2.19836318113242, 0.2461\n",
      "Epoch 11:, 2.1648981869220734, 0.310546875, 2.1806823113921343, 0.3011\n",
      "Epoch 12:, 2.1440991163253784, 0.3828125, 2.1618170024483065, 0.3505\n",
      "Epoch 13:, 2.1218492090702057, 0.3984375, 2.1414740693037677, 0.3793\n",
      "Epoch 14:, 2.0980942845344543, 0.44140625, 2.1180835681356442, 0.4614\n",
      "Epoch 15:, 2.0740723609924316, 0.541015625, 2.0947734459190612, 0.5368\n",
      "Epoch 16:, 2.0486498177051544, 0.58203125, 2.0686746471247095, 0.5975\n",
      "Epoch 17:, 2.0219481885433197, 0.630859375, 2.044975874530282, 0.608\n",
      "Epoch 18:, 1.9986468255519867, 0.63671875, 2.0233984046680913, 0.6114\n",
      "Epoch 19:, 1.9785371124744415, 0.6484375, 2.00572327671537, 0.6086\n",
      "Epoch 20:, 1.959838479757309, 0.642578125, 1.988277670684134, 0.6112\n"
     ]
    },
    {
     "data": {
      "text/plain": [
       "<matplotlib.legend.Legend at 0x998d91b610>"
      ]
     },
     "execution_count": 14,
     "metadata": {},
     "output_type": "execute_result"
    },
    {
     "data": {
      "image/png": "[encoded data removed]",
      "text/plain": [
       "<Figure size 640x480 with 1 Axes>"
      ]
     },
     "metadata": {},
     "output_type": "display_data"
    },
    {
     "data": {
      "image/png": "[encoded data removed]",
      "text/plain": [
       "<Figure size 640x480 with 1 Axes>"
      ]
     },
     "metadata": {},
     "output_type": "display_data"
    }
   ],
   "source": [
    "nbatch = 64\n",
    "nbatches = 8\n",
    "nepochs = 20\n",
    "lr = 0.1\n",
    "\n",
    "trainsize = nbatches*nbatch\n",
    "trainset, rest = torch.utils.data.random_split(training_data, [trainsize, 50000-trainsize])\n",
    "print(len(trainset), len(rest))\n",
    "\n",
    "print(\"         cost,  accuracy,  cost_val,  accuracy_val\")\n",
    "model = mlp([28*28, 200, 10])\n",
    "cost_train, cost_valid, acc_train, acc_valid = train_eval(model, lr, nepochs, nbatch, trainset, validation_data)\n",
    "\n",
    "plt.figure(1)\n",
    "plt.plot(range(nepochs), cost_train, \"b-\", label=\"cost_train\")\n",
    "plt.plot(range(nepochs), cost_valid, \"r-\", label=\"cost_valid\")\n",
    "plt.xlabel(\"epochs\")\n",
    "plt.ylabel(\"cost\")\n",
    "plt.legend()\n",
    "\n",
    "plt.figure(2)\n",
    "plt.plot(range(nepochs), acc_train, \"b-\", label=\"acc_train\")\n",
    "plt.plot(range(nepochs), acc_valid, \"r-\", label=\"acc_vaild\")\n",
    "plt.xlabel(\"epochs\")\n",
    "plt.ylabel(\"acc\")\n",
    "plt.legend()"
   ]
  },
  {
   "cell_type": "markdown",
   "id": "b66c8ceb-8083-4e62-b123-b026aef32e22",
   "metadata": {},
   "source": [
    "#### Evaluate Train and Validation Performance \n",
    "\n",
    "Now run several trainings with the same small model (one hidden layer) and explore for different number of training samples (different number of batches with 64 samples) used, how the train and validation performance evolve (cost and accuracy). Make sure that you train sufficiently long to obtain representative values for cost and accuracy with the given settings. Always use the same validation set (with 10'000 samples).\n",
    "\n",
    "Create plots with training and validation performance vs number of training batches (one for cost and one for accuracy). Use the performance characteristics obtained at the end.\n",
    "\n",
    "Discuss the whether there is a sufficient number of training samples for the given problem at hand. Specify a minimum number if applicable. Also consider whether you are in the underfitting regime.\n",
    "\n",
    "Hint: Specify a list with the number of training batches you would like to perform trainings. Try to be economic with the resources used - try to keep the number of trainings limited."
   ]
  },
  {
   "cell_type": "code",
   "execution_count": null,
   "id": "50e0bb95-7392-46a5-9481-640e9177d5b1",
   "metadata": {},
   "outputs": [],
   "source": []
  },
  {
   "cell_type": "markdown",
   "id": "c5e0c6ba-8f5e-4470-b110-1e52d86baa59",
   "metadata": {},
   "source": [
    "#### Comments: YOUR comments"
   ]
  },
  {
   "cell_type": "markdown",
   "id": "2f4d08b0-8ad2-4fc1-98e8-39dd29f204a1",
   "metadata": {},
   "source": [
    "### Exercise 3: Evaluate Different Model Complexities\n",
    "\n",
    "Use the same functionality implemented above (create MLP model, train and evaluate model) to evaluate different model complexities: Number of layers and number of units per layer.\n",
    "\n",
    "Start with the small model used in Exercise 2. Then gradually increase the model complexity. Do this along two dimensions:\n",
    "* a single hidden layer, but increasing the number of units.\n",
    "* a fixed number of units per (hidden) layer, but increase the number of layers.\n",
    "Make sure that you reach the overfitting regime (in either case).\n",
    "\n",
    "Always use the full training set with 50'000 samples.\n",
    "\n",
    "Again make sure that you train sufficiently long so that the obtained train and validation performance measures (cost, accuracy) are representative.\n",
    "\n",
    "Create plots with training and validation performance (cost, accuracy) vs model complexity - one plot with number of units for the single hidden layer case, and one for varying number of layers. \n",
    "\n",
    "Again use the performance characteristics obtained at the end. \n",
    "\n",
    "Finally, discuss your findings."
   ]
  },
  {
   "cell_type": "code",
   "execution_count": null,
   "id": "43dcd0fc-3fd6-4b07-a594-e7f6a6336e7f",
   "metadata": {},
   "outputs": [],
   "source": [
    "# several iterations with the code snippets of the form:\n",
    "\n",
    "nbatch = 64\n",
    "nepochs = 100\n",
    "lr = 0.05\n",
    "\n",
    "sl_cost_train_hist = []\n",
    "sl_acc_train_hist = []\n",
    "sl_cost_val_hist = []\n",
    "sl_acc_val_hist = []\n",
    "\n",
    "ml_cost_train_hist = []\n",
    "ml_acc_train_hist = []\n",
    "ml_cost_val_hist = []\n",
    "ml_acc_val_hist = []\n",
    "\n",
    "# different single-layer sizes\n",
    "print(\"Different single-layer models:\")\n",
    "for i in range(200, 1000, 200):\n",
    "    model = mlp([28*28, i, 10])\n",
    "    print(len(training_data), len(validation_data))\n",
    "    cost_train, cost_valid, acc_train, acc_valid = train_eval(model, lr, nepochs, nbatch, training_data, validation_data)\n",
    "\n",
    "    sl_cost_train_hist.append(cost_train)\n",
    "    sl_acc_train_hist.append(acc_train)\n",
    "    sl_cost_val_hist.append(cost_valid)\n",
    "    sl_acc_val_hist.append(acc_valid)\n",
    "    \n",
    "    #fig, axs = plt.subplots(nrows=1, ncols=2, figsize=(12,4))\n",
    "    #fig.suptitle(f'Single-Layer model with size {i}', fontsize=16)\n",
    "    #axs[0].set_title(\"Costs\")\n",
    "    #axs[0].plot(range(nepochs), cost_train, \"b-\", label=\"Training costs\")\n",
    "    #axs[0].plot(range(nepochs), cost_valid, \"r-\", label=\"Validation costs\")\n",
    "    #axs[0].legend()\n",
    "    #axs[1].set_title(\"Accuracy\")\n",
    "    #axs[1].plot(range(nepochs), acc_train, \"b-\", label=\"Training accuracy\")\n",
    "    #axs[1].plot(range(nepochs), acc_valid, \"r-\", label=\"Validation accuracy\")\n",
    "    #axs[1].legend()\n",
    "    #plt.show()\n",
    "\n",
    "print(\"Different multi-layer models:\")\n",
    "# multiple layers with same size\n",
    "layers = [28*28, 10]\n",
    "for i in range(1, 10):\n",
    "\n",
    "    layers.insert(-1, 200) # insert linear/ReLU layer\n",
    "\n",
    "    model = mlp(layers)\n",
    "    summary(model, (1,28,28))\n",
    "    cost_train, cost_valid, acc_train, acc_valid = train_eval(model, lr, nepochs, nbatch, training_data, validation_data)\n",
    "\n",
    "    fig, axs = plt.subplots(nrows=1, ncols=2, figsize=(12,4))\n",
    "    fig.suptitle(f'Multi-Layer model with {i} layers', fontsize=16)\n",
    "    axs[0].set_title(\"Costs\")\n",
    "    axs[0].plot(range(nepochs), cost_train, \"b-\", label=\"Training costs\")\n",
    "    axs[0].plot(range(nepochs), cost_valid, \"r-\", label=\"Validation costs\")\n",
    "    axs[0].legend()\n",
    "    axs[1].set_title(\"Accuracy\")\n",
    "    axs[1].plot(range(nepochs), acc_train, \"b-\", label=\"Training accuracy\")\n",
    "    axs[1].plot(range(nepochs), acc_valid, \"r-\", label=\"Validation accuracy\")\n",
    "    axs[1].legend()\n",
    "    plt.show()\n",
    "\n"
   ]
  },
  {
   "cell_type": "markdown",
   "id": "1a2e7893-e293-4ae6-a983-c335ff0c4b21",
   "metadata": {},
   "source": [
    "#### Comments: YOUR findings."
   ]
  },
  {
   "cell_type": "markdown",
   "id": "db61beca-5f13-404c-9c9c-568ccca8a00a",
   "metadata": {},
   "source": [
    "### Exercise 4: Add Regularisation\n",
    "\n",
    "Finally, add regularisation - dropout or L1/L2-regularisation. \n",
    "\n",
    "To this end, you need to implement new functionality to instantiate the model.\n",
    "\n",
    "Start with one of the overfitting cases of Exercise 3 and try to improve the validation performance by adding regularisation. You can use either dropout or L1/L2-regularisation.\n"
   ]
  },
  {
   "cell_type": "code",
   "execution_count": null,
   "id": "b61b15df-a84b-483d-9365-d8f66390b8bb",
   "metadata": {},
   "outputs": [],
   "source": [
    "# define a method that provides an instance of an MLP incl regularisation which uses as a list of units per layer as input \n",
    "\n",
    "def mlp_dropout(units = [28*28, 200, 10], p_in = 0.2, p_hidden=0.5):\n",
    "    \"\"\"\n",
    "    Creates an instance of an MLP with layers as specified in the 'units'-list (list of integers) and dropout \n",
    "    regularisation. Dropout rate for all layers the same except for the first (p_in). For the output layer \n",
    "    no dropout applied. \n",
    "    \"\"\"\n",
    "\n",
    "    # YOUR CODE HERE #\n",
    "\n",
    "    "
   ]
  },
  {
   "cell_type": "code",
   "execution_count": null,
   "id": "d4bfd0a4-999c-4690-9ef3-b5ee1ab26c30",
   "metadata": {
    "tags": []
   },
   "outputs": [],
   "source": [
    "model = mlp_dropout([28*28,200,10])\n",
    "\n",
    "from torchsummary import summary\n",
    "summary(model, (1,28,28))"
   ]
  },
  {
   "cell_type": "markdown",
   "id": "c3fa393a-9f99-48f4-996d-cf8d2a3b8cd5",
   "metadata": {},
   "source": [
    "#### Playing with different complexities and regularisation\n",
    "\n",
    "Now play with different complexities and regularisation. \n",
    "Start with one of the overfitting cases identified in the previous exercise.\n",
    "By adding regularisation, you should be able to make it non-overfitting, i.e. generalising better.\n",
    "Note that for a given complexity, adding regularisation reduces the model capacity. This may need to be compensated by increasing the complexity of the model. \n",
    "\n",
    "Use again cost and accuracy for train and validation set to evaluate the results.\n",
    "\n",
    "Finally, estimate the bias error and the generalisation error. "
   ]
  },
  {
   "cell_type": "code",
   "execution_count": null,
   "id": "a1fa1c2b-50d7-4b23-91c8-c47eec5fc8fd",
   "metadata": {},
   "outputs": [],
   "source": [
    "\n",
    "# YOUR CODE HERE #\n",
    "\n"
   ]
  },
  {
   "cell_type": "code",
   "execution_count": null,
   "id": "e6b0bef3-7aeb-4329-aa64-e8d107c9bee2",
   "metadata": {},
   "outputs": [],
   "source": []
  }
 ],
 "metadata": {
  "kernelspec": {
   "display_name": "Python 3 (ipykernel)",
   "language": "python",
   "name": "python3"
  },
  "language_info": {
   "codemirror_mode": {
    "name": "ipython",
    "version": 3
   },
   "file_extension": ".py",
   "mimetype": "text/x-python",
   "name": "python",
   "nbconvert_exporter": "python",
   "pygments_lexer": "ipython3",
   "version": "3.9.16"
  }
 },
 "nbformat": 4,
 "nbformat_minor": 5
}
