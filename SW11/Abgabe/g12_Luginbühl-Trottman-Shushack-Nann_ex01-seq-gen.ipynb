{
 "cells": [
  {
   "cell_type": "markdown",
   "metadata": {},
   "source": [
    "# Startup names"
   ]
  },
  {
   "cell_type": "code",
   "execution_count": 1,
   "metadata": {
    "tags": []
   },
   "outputs": [],
   "source": [
    "import numpy as np\n",
    "import random\n",
    "import matplotlib.pyplot as plt\n",
    "import tensorflow as tf"
   ]
  },
  {
   "cell_type": "code",
   "execution_count": 2,
   "metadata": {},
   "outputs": [
    {
     "name": "stdout",
     "output_type": "stream",
     "text": [
      "Loaded a corpus of 2567986 characters\n"
     ]
    }
   ],
   "source": [
    "keras = tf.keras\n",
    "with open(\"companies.csv\", mode=\"r\", encoding=\"utf-8\") as corpus_file:\n",
    "    corpus = corpus_file.read()\n",
    "    corpus_length = len(corpus)\n",
    "print(\"Loaded a corpus of {0} characters\".format(corpus_length))"
   ]
  },
  {
   "cell_type": "code",
   "execution_count": 3,
   "metadata": {},
   "outputs": [
    {
     "name": "stdout",
     "output_type": "stream",
     "text": [
      "Our corpus contains 150 unique characters.\n"
     ]
    }
   ],
   "source": [
    "# Get a unique identifier for each char in the corpus, \n",
    "# then make some dicts to ease encoding and decoding\n",
    "chars = sorted(list(set(corpus)))\n",
    "num_chars = len(chars)\n",
    "encoding = {c: i for i, c in enumerate(chars)}\n",
    "decoding = {i: c for i, c in enumerate(chars)}\n",
    "print(\"Our corpus contains {0} unique characters.\".format(num_chars))"
   ]
  },
  {
   "cell_type": "code",
   "execution_count": 4,
   "metadata": {},
   "outputs": [
    {
     "name": "stdout",
     "output_type": "stream",
     "text": [
      "{'\\n': 0, ' ': 1, '!': 2, '\"': 3, '#': 4, '$': 5, '%': 6, '&': 7, \"'\": 8, '(': 9, ')': 10, '*': 11, '+': 12, ',': 13, '-': 14, '.': 15, '/': 16, '0': 17, '1': 18, '2': 19, '3': 20, '4': 21, '5': 22, '6': 23, '7': 24, '8': 25, '9': 26, ':': 27, '=': 28, '>': 29, '?': 30, '@': 31, 'A': 32, 'B': 33, 'C': 34, 'D': 35, 'E': 36, 'F': 37, 'G': 38, 'H': 39, 'I': 40, 'J': 41, 'K': 42, 'L': 43, 'M': 44, 'N': 45, 'O': 46, 'P': 47, 'Q': 48, 'R': 49, 'S': 50, 'T': 51, 'U': 52, 'V': 53, 'W': 54, 'X': 55, 'Y': 56, 'Z': 57, '[': 58, '\\\\': 59, ']': 60, '^': 61, '_': 62, 'a': 63, 'b': 64, 'c': 65, 'd': 66, 'e': 67, 'f': 68, 'g': 69, 'h': 70, 'i': 71, 'j': 72, 'k': 73, 'l': 74, 'm': 75, 'n': 76, 'o': 77, 'p': 78, 'q': 79, 'r': 80, 's': 81, 't': 82, 'u': 83, 'v': 84, 'w': 85, 'x': 86, 'y': 87, 'z': 88, '{': 89, '|': 90, '}': 91, '~': 92, '\\x81': 93, '\\x82': 94, '\\x83': 95, '\\x84': 96, '\\x85': 97, '\\x86': 98, '\\x87': 99, '\\x88': 100, '\\x89': 101, '\\x8a': 102, '\\x8b': 103, '\\x8c': 104, '\\x8d': 105, '\\x8e': 106, '\\x8f': 107, '\\x90': 108, '\\x91': 109, '\\x92': 110, '\\x93': 111, '\\x94': 112, '\\x95': 113, '\\x96': 114, '\\x97': 115, '\\x98': 116, '\\x99': 117, '\\x9a': 118, '\\x9b': 119, '\\x9c': 120, '\\x9f': 121, '¡': 122, '¥': 123, '§': 124, '¨': 125, '©': 126, 'ª': 127, '«': 128, '¯': 129, 'µ': 130, '¾': 131, '¿': 132, 'Ê': 133, 'Ë': 134, 'Ì': 135, 'Ï': 136, 'Ð': 137, 'Ñ': 138, 'Ô': 139, 'Õ': 140, 'ç': 141, 'è': 142, 'ê': 143, 'ì': 144, 'î': 145, 'ï': 146, 'ò': 147, 'õ': 148, 'û': 149}\n",
      "{0: '\\n', 1: ' ', 2: '!', 3: '\"', 4: '#', 5: '$', 6: '%', 7: '&', 8: \"'\", 9: '(', 10: ')', 11: '*', 12: '+', 13: ',', 14: '-', 15: '.', 16: '/', 17: '0', 18: '1', 19: '2', 20: '3', 21: '4', 22: '5', 23: '6', 24: '7', 25: '8', 26: '9', 27: ':', 28: '=', 29: '>', 30: '?', 31: '@', 32: 'A', 33: 'B', 34: 'C', 35: 'D', 36: 'E', 37: 'F', 38: 'G', 39: 'H', 40: 'I', 41: 'J', 42: 'K', 43: 'L', 44: 'M', 45: 'N', 46: 'O', 47: 'P', 48: 'Q', 49: 'R', 50: 'S', 51: 'T', 52: 'U', 53: 'V', 54: 'W', 55: 'X', 56: 'Y', 57: 'Z', 58: '[', 59: '\\\\', 60: ']', 61: '^', 62: '_', 63: 'a', 64: 'b', 65: 'c', 66: 'd', 67: 'e', 68: 'f', 69: 'g', 70: 'h', 71: 'i', 72: 'j', 73: 'k', 74: 'l', 75: 'm', 76: 'n', 77: 'o', 78: 'p', 79: 'q', 80: 'r', 81: 's', 82: 't', 83: 'u', 84: 'v', 85: 'w', 86: 'x', 87: 'y', 88: 'z', 89: '{', 90: '|', 91: '}', 92: '~', 93: '\\x81', 94: '\\x82', 95: '\\x83', 96: '\\x84', 97: '\\x85', 98: '\\x86', 99: '\\x87', 100: '\\x88', 101: '\\x89', 102: '\\x8a', 103: '\\x8b', 104: '\\x8c', 105: '\\x8d', 106: '\\x8e', 107: '\\x8f', 108: '\\x90', 109: '\\x91', 110: '\\x92', 111: '\\x93', 112: '\\x94', 113: '\\x95', 114: '\\x96', 115: '\\x97', 116: '\\x98', 117: '\\x99', 118: '\\x9a', 119: '\\x9b', 120: '\\x9c', 121: '\\x9f', 122: '¡', 123: '¥', 124: '§', 125: '¨', 126: '©', 127: 'ª', 128: '«', 129: '¯', 130: 'µ', 131: '¾', 132: '¿', 133: 'Ê', 134: 'Ë', 135: 'Ì', 136: 'Ï', 137: 'Ð', 138: 'Ñ', 139: 'Ô', 140: 'Õ', 141: 'ç', 142: 'è', 143: 'ê', 144: 'ì', 145: 'î', 146: 'ï', 147: 'ò', 148: 'õ', 149: 'û'}\n"
     ]
    }
   ],
   "source": [
    "print(encoding)\n",
    "print(decoding)"
   ]
  },
  {
   "cell_type": "markdown",
   "metadata": {},
   "source": [
    "## Many to one approach"
   ]
  },
  {
   "cell_type": "code",
   "execution_count": 5,
   "metadata": {},
   "outputs": [
    {
     "name": "stdout",
     "output_type": "stream",
     "text": [
      "Sliced our corpus into 855992 sentences of length 10\n"
     ]
    }
   ],
   "source": [
    "# chop up our data into X and y, slice into roughly \n",
    "# (num_chars / skip) overlapping 'sentences' of length \n",
    "# sentence_length, and encode the chars\n",
    "seq_length = 10\n",
    "skip = 3\n",
    "X_data = []\n",
    "y_data = []\n",
    "for i in range (0, len(corpus) - seq_length, skip):\n",
    "    seq = corpus[i:i + seq_length]\n",
    "    next_char = corpus[i + seq_length]\n",
    "    X_data.append([encoding[char] for char in seq])\n",
    "    y_data.append(encoding[next_char])\n",
    "\n",
    "num_seq = len(X_data)\n",
    "print(\"Sliced our corpus into {0} sentences of length {1}\"\n",
    "      .format(num_seq, seq_length))"
   ]
  },
  {
   "cell_type": "code",
   "execution_count": 6,
   "metadata": {},
   "outputs": [
    {
     "name": "stdout",
     "output_type": "stream",
     "text": [
      "Encoded data[0]  : [39, 63, 81, 70, 78, 74, 63, 87, 1, 40]\n",
      "Decoded data[0]  : ['H', 'a', 's', 'h', 'p', 'l', 'a', 'y', ' ', 'I']\n",
      "Target of data[0]: n\n"
     ]
    }
   ],
   "source": [
    "print('Encoded data[0]  : {}'.format(X_data[0]))\n",
    "print('Decoded data[0]  : {}'.format([decoding[idx] for idx in X_data[0]]))\n",
    "print('Target of data[0]: {}'.format(decoding[y_data[0]]))"
   ]
  },
  {
   "cell_type": "code",
   "execution_count": 7,
   "metadata": {},
   "outputs": [
    {
     "name": "stdout",
     "output_type": "stream",
     "text": [
      "Sanity check y. Dimension: (855992, 150) # Sequence: 855992 Characters in corpus: 150\n",
      "Sanity check X. Dimension: (855992, 10, 150) Sequence length: 10\n"
     ]
    }
   ],
   "source": [
    "# Vectorize our data and labels. We want everything in one-hot.\n",
    "X = np.zeros((num_seq, seq_length, num_chars), dtype=bool)\n",
    "y = np.zeros((num_seq, num_chars), dtype=bool)\n",
    "for i, seq in enumerate(X_data):\n",
    "    for t, encoded_char in enumerate(seq):\n",
    "        X[i, t, encoded_char] = 1\n",
    "    y[i, y_data[i]] = 1\n",
    "\n",
    "# Double check our vectorized data before we sink hours into fitting a model\n",
    "print(\"Sanity check y. Dimension: {0} # Sequence: {1} Characters in corpus: {2}\"\n",
    "      .format(y.shape, num_seq, len(chars)))\n",
    "print(\"Sanity check X. Dimension: {0} Sequence length: {1}\"\n",
    "      .format(X.shape, seq_length))\n",
    "\n",
    "X_train = X\n",
    "y_train = y"
   ]
  },
  {
   "cell_type": "code",
   "execution_count": 8,
   "metadata": {},
   "outputs": [
    {
     "name": "stdout",
     "output_type": "stream",
     "text": [
      "Model: \"sequential\"\n",
      "_________________________________________________________________\n",
      " Layer (type)                Output Shape              Param #   \n",
      "=================================================================\n",
      " simple_rnn (SimpleRNN)      (None, 128)               35712     \n",
      "                                                                 \n",
      " dense (Dense)               (None, 150)               19350     \n",
      "                                                                 \n",
      " activation (Activation)     (None, 150)               0         \n",
      "                                                                 \n",
      "=================================================================\n",
      "Total params: 55,062\n",
      "Trainable params: 55,062\n",
      "Non-trainable params: 0\n",
      "_________________________________________________________________\n"
     ]
    }
   ],
   "source": [
    "# Define our model\n",
    "model = keras.models.Sequential()\n",
    "model.add(keras.layers.Input(shape=(seq_length, num_chars)))\n",
    "model.add(keras.layers.SimpleRNN(units=128, return_sequences=False))\n",
    "model.add(keras.layers.Dense(num_chars))\n",
    "model.add(keras.layers.Activation('softmax'))\n",
    "model.compile(loss='categorical_crossentropy', optimizer='adam', metrics=['accuracy'])\n",
    "model.summary()"
   ]
  },
  {
   "cell_type": "code",
   "execution_count": 9,
   "metadata": {},
   "outputs": [
    {
     "name": "stdout",
     "output_type": "stream",
     "text": [
      "Epoch 1/15\n",
      "6688/6688 [==============================] - 59s 8ms/step - loss: 2.5054 - accuracy: 0.3011\n",
      "Epoch 2/15\n",
      "6688/6688 [==============================] - 61s 9ms/step - loss: 2.2264 - accuracy: 0.3688\n",
      "Epoch 3/15\n",
      "6688/6688 [==============================] - 55s 8ms/step - loss: 2.1409 - accuracy: 0.3920\n",
      "Epoch 4/15\n",
      "6688/6688 [==============================] - 59s 9ms/step - loss: 2.0927 - accuracy: 0.4056\n",
      "Epoch 5/15\n",
      "6688/6688 [==============================] - 61s 9ms/step - loss: 2.0619 - accuracy: 0.4140\n",
      "Epoch 6/15\n",
      "6688/6688 [==============================] - 53s 8ms/step - loss: 2.0396 - accuracy: 0.4201\n",
      "Epoch 7/15\n",
      "6688/6688 [==============================] - 56s 8ms/step - loss: 2.0228 - accuracy: 0.4243\n",
      "Epoch 8/15\n",
      "6688/6688 [==============================] - 54s 8ms/step - loss: 2.0101 - accuracy: 0.4277\n",
      "Epoch 9/15\n",
      "6688/6688 [==============================] - 54s 8ms/step - loss: 1.9998 - accuracy: 0.4307\n",
      "Epoch 10/15\n",
      "6688/6688 [==============================] - 58s 9ms/step - loss: 1.9904 - accuracy: 0.4332\n",
      "Epoch 11/15\n",
      "6688/6688 [==============================] - 55s 8ms/step - loss: 1.9827 - accuracy: 0.4350\n",
      "Epoch 12/15\n",
      "6688/6688 [==============================] - 54s 8ms/step - loss: 1.9765 - accuracy: 0.4365\n",
      "Epoch 13/15\n",
      "6688/6688 [==============================] - 54s 8ms/step - loss: 1.9702 - accuracy: 0.4385\n",
      "Epoch 14/15\n",
      "6688/6688 [==============================] - 60s 9ms/step - loss: 1.9653 - accuracy: 0.4400\n",
      "Epoch 15/15\n",
      "6688/6688 [==============================] - 52s 8ms/step - loss: 1.9605 - accuracy: 0.4411\n"
     ]
    },
    {
     "data": {
      "image/png": "[encoded data removed]",
      "text/plain": [
       "<Figure size 640x480 with 1 Axes>"
      ]
     },
     "metadata": {},
     "output_type": "display_data"
    }
   ],
   "source": [
    "#training time\n",
    "log = model.fit(X, y, epochs=15, batch_size=128)\n",
    "plt.plot(log.history['loss'], label='Training')\n",
    "plt.legend()\n",
    "plt.grid()"
   ]
  },
  {
   "cell_type": "code",
   "execution_count": 10,
   "metadata": {},
   "outputs": [
    {
     "name": "stdout",
     "output_type": "stream",
     "text": [
      "seed = Technology\n",
      " Ameri Lacitit\n",
      "Motity News\n",
      "Epor RIT\n",
      "FelqForler1 Resopts\n",
      "Live Financial Associates\n",
      "Fanaminet\n",
      "Suparcheen\n",
      "Carbox\n",
      "FOLE Termital S.c.\n",
      "\"Xolamenty Enviropalsing World Corporation\n",
      "Mysomudiof Ineito\n",
      "HarBility\n",
      "Safe Natirals\n",
      "Candinian\n",
      "ThenRT2 Modic\n",
      "Baija Magro Compucine\n",
      "Prediaz\n",
      "musing\n",
      "Varener Emicors\n",
      "Thm.com\n",
      "Paillisinn Corp., L.A.\n",
      "ROZ\n",
      "Plainst\n",
      "19Boc Group LLC\n",
      "The Concepts\n",
      "\"Peterseplord\n",
      "Actory Data Group\n",
      "Graddic Horsing Software\n",
      "Painnech Cllabant\n",
      "Sportembooturis Group\n",
      "Exightonobs\n",
      "NewInalpy Research Partners\n",
      "\n"
     ]
    }
   ],
   "source": [
    "\n",
    "def make_seed(seed_phrase=\"\"):\n",
    "        if seed_phrase:  # make sure the seed has the right length\n",
    "            phrase_length = len(seed_phrase)\n",
    "            pattern = \"\"\n",
    "            for i in range (0, seq_length):\n",
    "                pattern += seed_phrase[i % phrase_length]\n",
    "        else:            # sample randomly the seed from corpus\n",
    "            seed = random.randint(0, corpus_length - sentence_length)\n",
    "            pattern = corpus[seed:seed + sentence_length]\n",
    "        return pattern\n",
    "\n",
    "seed_pattern = make_seed(\"Technology\")\n",
    "print(\"seed = \" + seed_pattern)\n",
    "\n",
    "X = np.zeros((1, seq_length, num_chars), dtype=float)\n",
    "for i, character in enumerate(seed_pattern):\n",
    "    X[0, i, encoding[character]] = 1\n",
    "\n",
    "generated_text = \"\"\n",
    "for i in range(500):\n",
    "    output_prob = model.predict(X, verbose=0)[0]\n",
    "    # in previous line predict() gives a tensor of shape (1, 65) \n",
    "    # with 1 being the size of the batch, for that we use [0] to get a vector\n",
    "    prediction = np.random.choice(num_chars, p = output_prob )\n",
    "    generated_text += decoding[prediction]\n",
    "    activations = np.zeros((1, 1, num_chars), dtype=bool)\n",
    "    activations[0, 0, prediction] = 1\n",
    "    #now remove first char and glue the predicted one\n",
    "    X = np.concatenate((X[:, 1:, :], activations), axis=1)\n",
    "print(generated_text)"
   ]
  },
  {
   "cell_type": "markdown",
   "metadata": {},
   "source": [
    "The accuracy of rougly 0.44 is of course not very good, but I still think the results are pretty decent even though some names do not make sense at all. I think the following generated names are interesting:  \n",
    "Exightonobs    \n",
    "Candinian\n",
    "Carbox  \n",
    "Motity News  \n",
    "NewInalpy Research Partners  "
   ]
  },
  {
   "cell_type": "markdown",
   "metadata": {},
   "source": [
    "## LSTM"
   ]
  },
  {
   "cell_type": "code",
   "execution_count": 11,
   "metadata": {},
   "outputs": [
    {
     "name": "stdout",
     "output_type": "stream",
     "text": [
      "Model: \"sequential_1\"\n",
      "_________________________________________________________________\n",
      " Layer (type)                Output Shape              Param #   \n",
      "=================================================================\n",
      " lstm (LSTM)                 (None, 128)               142848    \n",
      "                                                                 \n",
      " dense_1 (Dense)             (None, 150)               19350     \n",
      "                                                                 \n",
      " activation_1 (Activation)   (None, 150)               0         \n",
      "                                                                 \n",
      "=================================================================\n",
      "Total params: 162,198\n",
      "Trainable params: 162,198\n",
      "Non-trainable params: 0\n",
      "_________________________________________________________________\n"
     ]
    }
   ],
   "source": [
    "model = keras.models.Sequential()\n",
    "model.add(keras.layers.Input(shape=(seq_length, num_chars)))\n",
    "model.add(keras.layers.LSTM(units=128))\n",
    "model.add(keras.layers.Dense(num_chars))\n",
    "model.add(keras.layers.Activation('softmax'))\n",
    "model.compile(loss='categorical_crossentropy', optimizer='adam', metrics=['accuracy'])\n",
    "model.summary()"
   ]
  },
  {
   "cell_type": "code",
   "execution_count": 12,
   "metadata": {},
   "outputs": [
    {
     "name": "stdout",
     "output_type": "stream",
     "text": [
      "Epoch 1/10\n",
      "6688/6688 [==============================] - 34s 5ms/step - loss: 2.6268 - accuracy: 0.2677\n",
      "Epoch 2/10\n",
      "6688/6688 [==============================] - 36s 5ms/step - loss: 2.2043 - accuracy: 0.3745\n",
      "Epoch 3/10\n",
      "6688/6688 [==============================] - 34s 5ms/step - loss: 2.0733 - accuracy: 0.4115\n",
      "Epoch 4/10\n",
      "6688/6688 [==============================] - 31s 5ms/step - loss: 2.0012 - accuracy: 0.4321\n",
      "Epoch 5/10\n",
      "6688/6688 [==============================] - 31s 5ms/step - loss: 1.9540 - accuracy: 0.4441\n",
      "Epoch 6/10\n",
      "6688/6688 [==============================] - 31s 5ms/step - loss: 1.9193 - accuracy: 0.4534\n",
      "Epoch 7/10\n",
      "6688/6688 [==============================] - 38s 6ms/step - loss: 1.8924 - accuracy: 0.4603\n",
      "Epoch 8/10\n",
      "6688/6688 [==============================] - 31s 5ms/step - loss: 1.8705 - accuracy: 0.4662\n",
      "Epoch 9/10\n",
      "6688/6688 [==============================] - 30s 5ms/step - loss: 1.8518 - accuracy: 0.4712\n",
      "Epoch 10/10\n",
      "6688/6688 [==============================] - 30s 5ms/step - loss: 1.8356 - accuracy: 0.4752\n"
     ]
    },
    {
     "data": {
      "image/png": "[encoded data removed]",
      "text/plain": [
       "<Figure size 640x480 with 1 Axes>"
      ]
     },
     "metadata": {},
     "output_type": "display_data"
    }
   ],
   "source": [
    "log = model.fit(X_train, y_train, epochs=10, batch_size=128)\n",
    "plt.plot(log.history['loss'], label='Training')\n",
    "plt.legend()\n",
    "plt.grid()"
   ]
  },
  {
   "cell_type": "code",
   "execution_count": 13,
   "metadata": {},
   "outputs": [
    {
     "name": "stdout",
     "output_type": "stream",
     "text": [
      "seed = Technology\n",
      " Squared\n",
      "Moxima\n",
      "Compass\n",
      "Maltax Partners Live st\n",
      "Laquit - Brokparch\n",
      "Semiring Cologhal\n",
      "Atolin Profe Therapics\n",
      "ClevenQeare\n",
      "Bowson Labs\n",
      "24RoM\n",
      "Wastionouts\n",
      "Recotelity Prope\n",
      "Nyetole Solutions, Ltd.\"\n",
      "FitMobile\n",
      "PromeWever\n",
      "Openologics\n",
      "Flopta\n",
      "American Roald\n",
      "LocsMetewlests\n",
      "IneXyn\n",
      "RentiMed\n",
      "Seylova Bioty\n",
      "Public\n",
      "Storage Energy Services\n",
      "Hinymair\n",
      "Opentai\n",
      "\"Assergnis Behuty\n",
      "Carden Ltd.\n",
      "The Less\n",
      "Surgo viscala Inpassa\n",
      "eNew\n",
      "Medimate Energy Samp Medicon\n",
      "RAIDisics\n",
      "Fundammer Corp.\n",
      "NoteSoubractore Limited\n",
      "Dokol Medical\n",
      "C\n"
     ]
    }
   ],
   "source": [
    "\n",
    "def make_seed(seed_phrase=\"\"):\n",
    "        if seed_phrase:  # make sure the seed has the right length\n",
    "            phrase_length = len(seed_phrase)\n",
    "            pattern = \"\"\n",
    "            for i in range (0, seq_length):\n",
    "                pattern += seed_phrase[i % phrase_length]\n",
    "        else:            # sample randomly the seed from corpus\n",
    "            seed = random.randint(0, corpus_length - sentence_length)\n",
    "            pattern = corpus[seed:seed + sentence_length]\n",
    "        return pattern\n",
    "\n",
    "seed_pattern = make_seed(\"Technology\")\n",
    "print(\"seed = \" + seed_pattern)\n",
    "\n",
    "X = np.zeros((1, seq_length, num_chars), dtype=float)\n",
    "for i, character in enumerate(seed_pattern):\n",
    "    X[0, i, encoding[character]] = 1\n",
    "\n",
    "generated_text = \"\"\n",
    "for i in range(500):\n",
    "    output_prob = model.predict(X, verbose=0)[0]\n",
    "    # in previous line predict() gives a tensor of shape (1, 65) \n",
    "    # with 1 being the size of the batch, for that we use [0] to get a vector\n",
    "    prediction = np.random.choice(num_chars, p = output_prob )\n",
    "    generated_text += decoding[prediction]\n",
    "    activations = np.zeros((1, 1, num_chars), dtype=bool)\n",
    "    activations[0, 0, prediction] = 1\n",
    "    #now remove first char and glue the predicted one\n",
    "    X = np.concatenate((X[:, 1:, :], activations), axis=1)\n",
    "print(generated_text)"
   ]
  },
  {
   "cell_type": "markdown",
   "metadata": {},
   "source": [
    "The accuracy improves a little bit to 0.4781. I think it's fair to say that the names that are being geneareted are better overall. Especially strange names do not occur as often anymore (probably because the long term memory works better)."
   ]
  },
  {
   "cell_type": "markdown",
   "metadata": {},
   "source": [
    "## Different data set (baby names)\n",
    "I found a set of US baby names (available here: https://www.kaggle.com/datasets/kaggle/us-baby-names?resource=download&select=NationalNames.csv)."
   ]
  },
  {
   "cell_type": "code",
   "execution_count": 14,
   "metadata": {},
   "outputs": [
    {
     "name": "stdout",
     "output_type": "stream",
     "text": [
      "   Id       Name  Year Gender  Count\n",
      "0   1       Mary  1880      F   7065\n",
      "1   2       Anna  1880      F   2604\n",
      "2   3       Emma  1880      F   2003\n",
      "3   4  Elizabeth  1880      F   1939\n",
      "4   5     Minnie  1880      F   1746\n",
      "<class 'pandas.core.frame.DataFrame'>\n",
      "RangeIndex: 1825433 entries, 0 to 1825432\n",
      "Data columns (total 5 columns):\n",
      " #   Column  Dtype \n",
      "---  ------  ----- \n",
      " 0   Id      int64 \n",
      " 1   Name    object\n",
      " 2   Year    int64 \n",
      " 3   Gender  object\n",
      " 4   Count   int64 \n",
      "dtypes: int64(3), object(2)\n",
      "memory usage: 69.6+ MB\n",
      "None\n"
     ]
    }
   ],
   "source": [
    "import pandas as pd\n",
    "\n",
    "df = pd.read_csv(\"NationalNames.csv\")\n",
    "print(df.head())\n",
    "print(df.info())"
   ]
  },
  {
   "cell_type": "code",
   "execution_count": 15,
   "metadata": {},
   "outputs": [
    {
     "name": "stdout",
     "output_type": "stream",
     "text": [
      "Loaded a corpus of 11270398 characters\n"
     ]
    }
   ],
   "source": [
    "names = df[\"Name\"].values.tolist()\n",
    "corpus = []\n",
    "for name in names:\n",
    "    corpus += [c for c in name]\n",
    "corpus_length = len(corpus)\n",
    "print(\"Loaded a corpus of {0} characters\".format(corpus_length))"
   ]
  },
  {
   "cell_type": "code",
   "execution_count": 16,
   "metadata": {},
   "outputs": [
    {
     "name": "stdout",
     "output_type": "stream",
     "text": [
      "['A', 'B', 'C', 'D', 'E', 'F', 'G', 'H', 'I', 'J', 'K', 'L', 'M', 'N', 'O', 'P', 'Q', 'R', 'S', 'T', 'U', 'V', 'W', 'X', 'Y', 'Z', 'a', 'b', 'c', 'd', 'e', 'f', 'g', 'h', 'i', 'j', 'k', 'l', 'm', 'n', 'o', 'p', 'q', 'r', 's', 't', 'u', 'v', 'w', 'x', 'y', 'z']\n",
      "Our corpus contains 52 unique characters.\n"
     ]
    }
   ],
   "source": [
    "# Get a unique identifier for each char in the corpus, \n",
    "# then make some dicts to ease encoding and decoding\n",
    "chars = sorted(list(set(corpus)))\n",
    "print(chars)\n",
    "num_chars = len(chars)\n",
    "encoding = {c: i for i, c in enumerate(chars)}\n",
    "decoding = {i: c for i, c in enumerate(chars)}\n",
    "print(\"Our corpus contains {0} unique characters.\".format(num_chars))"
   ]
  },
  {
   "cell_type": "code",
   "execution_count": 17,
   "metadata": {},
   "outputs": [
    {
     "name": "stdout",
     "output_type": "stream",
     "text": [
      "{'A': 0, 'B': 1, 'C': 2, 'D': 3, 'E': 4, 'F': 5, 'G': 6, 'H': 7, 'I': 8, 'J': 9, 'K': 10, 'L': 11, 'M': 12, 'N': 13, 'O': 14, 'P': 15, 'Q': 16, 'R': 17, 'S': 18, 'T': 19, 'U': 20, 'V': 21, 'W': 22, 'X': 23, 'Y': 24, 'Z': 25, 'a': 26, 'b': 27, 'c': 28, 'd': 29, 'e': 30, 'f': 31, 'g': 32, 'h': 33, 'i': 34, 'j': 35, 'k': 36, 'l': 37, 'm': 38, 'n': 39, 'o': 40, 'p': 41, 'q': 42, 'r': 43, 's': 44, 't': 45, 'u': 46, 'v': 47, 'w': 48, 'x': 49, 'y': 50, 'z': 51}\n",
      "{0: 'A', 1: 'B', 2: 'C', 3: 'D', 4: 'E', 5: 'F', 6: 'G', 7: 'H', 8: 'I', 9: 'J', 10: 'K', 11: 'L', 12: 'M', 13: 'N', 14: 'O', 15: 'P', 16: 'Q', 17: 'R', 18: 'S', 19: 'T', 20: 'U', 21: 'V', 22: 'W', 23: 'X', 24: 'Y', 25: 'Z', 26: 'a', 27: 'b', 28: 'c', 29: 'd', 30: 'e', 31: 'f', 32: 'g', 33: 'h', 34: 'i', 35: 'j', 36: 'k', 37: 'l', 38: 'm', 39: 'n', 40: 'o', 41: 'p', 42: 'q', 43: 'r', 44: 's', 45: 't', 46: 'u', 47: 'v', 48: 'w', 49: 'x', 50: 'y', 51: 'z'}\n"
     ]
    }
   ],
   "source": [
    "print(encoding)\n",
    "print(decoding)"
   ]
  },
  {
   "cell_type": "code",
   "execution_count": 18,
   "metadata": {},
   "outputs": [
    {
     "name": "stdout",
     "output_type": "stream",
     "text": [
      "Sliced our corpus into 3756796 sentences of length 10\n"
     ]
    }
   ],
   "source": [
    "# chop up our data into X and y, slice into roughly \n",
    "# (num_chars / skip) overlapping 'sentences' of length \n",
    "# sentence_length, and encode the chars\n",
    "seq_length = 10\n",
    "skip = 3\n",
    "X_data = []\n",
    "y_data = []\n",
    "for i in range (0, len(corpus) - seq_length, skip):\n",
    "    seq = corpus[i:i + seq_length]\n",
    "    next_char = corpus[i + seq_length]\n",
    "    X_data.append([encoding[char] for char in seq])\n",
    "    y_data.append(encoding[next_char])\n",
    "\n",
    "num_seq = len(X_data)\n",
    "print(\"Sliced our corpus into {0} sentences of length {1}\"\n",
    "      .format(num_seq, seq_length))"
   ]
  },
  {
   "cell_type": "code",
   "execution_count": 19,
   "metadata": {},
   "outputs": [
    {
     "name": "stdout",
     "output_type": "stream",
     "text": [
      "Encoded data[0]  : [12, 26, 43, 50, 0, 39, 39, 26, 4, 38]\n",
      "Decoded data[0]  : ['M', 'a', 'r', 'y', 'A', 'n', 'n', 'a', 'E', 'm']\n",
      "Target of data[0]: m\n"
     ]
    }
   ],
   "source": [
    "print('Encoded data[0]  : {}'.format(X_data[0]))\n",
    "print('Decoded data[0]  : {}'.format([decoding[idx] for idx in X_data[0]]))\n",
    "print('Target of data[0]: {}'.format(decoding[y_data[0]]))"
   ]
  },
  {
   "cell_type": "code",
   "execution_count": 20,
   "metadata": {},
   "outputs": [],
   "source": [
    "import numpy as np\n",
    "import matplotlib.pyplot as plt\n",
    "from tensorflow import keras"
   ]
  },
  {
   "cell_type": "code",
   "execution_count": 21,
   "metadata": {},
   "outputs": [
    {
     "name": "stdout",
     "output_type": "stream",
     "text": [
      "Sanity check y. Dimension: (3756796, 52) # Sequence: 3756796 Characters in corpus: 52\n",
      "Sanity check X. Dimension: (3756796, 10, 52) Sequence length: 10\n"
     ]
    }
   ],
   "source": [
    "# Vectorize our data and labels. We want everything in one-hot.\n",
    "X = np.zeros((num_seq, seq_length, num_chars), dtype=bool)\n",
    "y = np.zeros((num_seq, num_chars), dtype=bool)\n",
    "for i, seq in enumerate(X_data):\n",
    "    for t, encoded_char in enumerate(seq):\n",
    "        X[i, t, encoded_char] = 1\n",
    "    y[i, y_data[i]] = 1\n",
    "\n",
    "# Double check our vectorized data before we sink hours into fitting a model\n",
    "print(\"Sanity check y. Dimension: {0} # Sequence: {1} Characters in corpus: {2}\"\n",
    "      .format(y.shape, num_seq, len(chars)))\n",
    "print(\"Sanity check X. Dimension: {0} Sequence length: {1}\"\n",
    "      .format(X.shape, seq_length))\n",
    "\n",
    "X_train = X\n",
    "y_train = y"
   ]
  },
  {
   "cell_type": "code",
   "execution_count": 22,
   "metadata": {},
   "outputs": [
    {
     "name": "stdout",
     "output_type": "stream",
     "text": [
      "Model: \"sequential_2\"\n",
      "_________________________________________________________________\n",
      " Layer (type)                Output Shape              Param #   \n",
      "=================================================================\n",
      " lstm_1 (LSTM)               (None, 128)               92672     \n",
      "                                                                 \n",
      " dense_2 (Dense)             (None, 52)                6708      \n",
      "                                                                 \n",
      " activation_2 (Activation)   (None, 52)                0         \n",
      "                                                                 \n",
      "=================================================================\n",
      "Total params: 99,380\n",
      "Trainable params: 99,380\n",
      "Non-trainable params: 0\n",
      "_________________________________________________________________\n"
     ]
    }
   ],
   "source": [
    "# Use LSTM\n",
    "model = keras.models.Sequential()\n",
    "model.add(keras.layers.Input(shape=(seq_length, num_chars)))\n",
    "model.add(keras.layers.LSTM(units=128))\n",
    "model.add(keras.layers.Dense(num_chars))\n",
    "model.add(keras.layers.Activation('softmax'))\n",
    "model.compile(loss='categorical_crossentropy', optimizer='adam', metrics=['accuracy'])\n",
    "model.summary()"
   ]
  },
  {
   "cell_type": "code",
   "execution_count": 23,
   "metadata": {},
   "outputs": [
    {
     "name": "stdout",
     "output_type": "stream",
     "text": [
      "Epoch 1/5\n",
      "29350/29350 [==============================] - 121s 4ms/step - loss: 1.9570 - accuracy: 0.4149\n",
      "Epoch 2/5\n",
      "29350/29350 [==============================] - 117s 4ms/step - loss: 1.6872 - accuracy: 0.4887\n",
      "Epoch 3/5\n",
      "29350/29350 [==============================] - 117s 4ms/step - loss: 1.6103 - accuracy: 0.5087\n",
      "Epoch 4/5\n",
      "29350/29350 [==============================] - 120s 4ms/step - loss: 1.5694 - accuracy: 0.5194\n",
      "Epoch 5/5\n",
      "29350/29350 [==============================] - 114s 4ms/step - loss: 1.5426 - accuracy: 0.5259\n"
     ]
    },
    {
     "data": {
      "image/png": "[encoded data removed]",
      "text/plain": [
       "<Figure size 640x480 with 1 Axes>"
      ]
     },
     "metadata": {},
     "output_type": "display_data"
    }
   ],
   "source": [
    "log = model.fit(X_train, y_train, epochs=5, batch_size=128)\n",
    "plt.plot(log.history['loss'], label='Training')\n",
    "plt.legend()\n",
    "plt.grid()"
   ]
  },
  {
   "cell_type": "code",
   "execution_count": 24,
   "metadata": {},
   "outputs": [
    {
     "name": "stdout",
     "output_type": "stream",
     "text": [
      "seed = AshleyAshl\n",
      "['in', 'Ashwan', 'Ashnyan', 'Athiliota', 'Athilytha', 'Conzayann', 'Corinne', 'Debri', 'Javene', 'Jedricka', 'Jessid', 'Jesus', 'Jim', 'Joran', 'Jorual', 'Joshua', 'Kashawna', 'Katelyn', 'Katorie', 'Katrinc', 'Khani', 'Khyli', 'Kmyann', 'Kylie', 'Kyana', 'Lackeniya', 'Lakema', 'Lanettie', 'Lanae', 'Laras', 'Lara', 'Larol', 'Latrice', 'Laverna', 'Lavonna', 'Lawanda', 'Leigh', 'Lidasia', 'Lila', 'Marybrya', 'Mary', 'Francost', 'Hilton', 'Olemon', 'Randall', 'Jasmun', 'Latisha', 'Latrica', 'Latula', 'Latoy', 'Lavonjaun', 'Lavin', 'Lloyd', 'Lucilec', 'Luc', 'Damarrius', 'Desite', 'Kerith', 'Kevarionne', 'Kortni', 'Krystie', 'Kyllia', 'Alfonza', 'Alicia', 'Alora', 'Benjame', 'Berona', 'Earlly', 'Fatama', 'Felicitia', 'Keilana', 'Keiley', 'Kiann', 'Kierston', 'Korrinia', 'Kristia', 'Kriya', 'Jennifer', 'Jen', 'Je']\n"
     ]
    }
   ],
   "source": [
    "def camel_case_split(str):\n",
    "    words = [[str[0]]]\n",
    " \n",
    "    for c in str[1:]:\n",
    "        if words[-1][-1].islower() and c.isupper():\n",
    "            words.append(list(c))\n",
    "        else:\n",
    "            words[-1].append(c)\n",
    " \n",
    "    return [''.join(word) for word in words]\n",
    "\n",
    "def make_seed(seed_phrase=\"\"):\n",
    "        if seed_phrase:  # make sure the seed has the right length\n",
    "            phrase_length = len(seed_phrase)\n",
    "            pattern = \"\"\n",
    "            for i in range (0, seq_length):\n",
    "                pattern += seed_phrase[i % phrase_length]\n",
    "        else:            # sample randomly the seed from corpus\n",
    "            seed = random.randint(0, corpus_length - sentence_length)\n",
    "            pattern = corpus[seed:seed + sentence_length]\n",
    "        return pattern\n",
    "\n",
    "seed_pattern = make_seed(\"Ashley\")\n",
    "print(\"seed = \" + seed_pattern)\n",
    "\n",
    "X = np.zeros((1, seq_length, num_chars), dtype=float)\n",
    "for i, character in enumerate(seed_pattern):\n",
    "    X[0, i, encoding[character]] = 1\n",
    "\n",
    "generated_text = \"\"\n",
    "for i in range(500):\n",
    "    output_prob = model.predict(X, verbose=0)[0]\n",
    "    # in previous line predict() gives a tensor of shape (1, 65) \n",
    "    # with 1 being the size of the batch, for that we use [0] to get a vector\n",
    "    prediction = np.random.choice(num_chars, p = output_prob )\n",
    "    generated_text += decoding[prediction]\n",
    "    activations = np.zeros((1, 1, num_chars), dtype=bool)\n",
    "    activations[0, 0, prediction] = 1\n",
    "    #now remove first char and glue the predicted one\n",
    "    X = np.concatenate((X[:, 1:, :], activations), axis=1)\n",
    "print(camel_case_split(generated_text))"
   ]
  }
 ],
 "metadata": {
  "kernelspec": {
   "display_name": "Python 3 (ipykernel)",
   "language": "python",
   "name": "python3"
  },
  "language_info": {
   "codemirror_mode": {
    "name": "ipython",
    "version": 3
   },
   "file_extension": ".py",
   "mimetype": "text/x-python",
   "name": "python",
   "nbconvert_exporter": "python",
   "pygments_lexer": "ipython3",
   "version": "3.9.16"
  }
 },
 "nbformat": 4,
 "nbformat_minor": 4
}
